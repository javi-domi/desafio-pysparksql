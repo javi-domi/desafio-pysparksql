{
 "cells": [
  {
   "cell_type": "code",
   "execution_count": 1,
   "metadata": {},
   "outputs": [
    {
     "name": "stdout",
     "output_type": "stream",
     "text": [
      "22/09/04 21:14:00 WARN Utils: Your hostname, Javiers-MacBook-Air.local resolves to a loopback address: 127.0.0.1; using 192.168.1.104 instead (on interface en0)\n",
      "22/09/04 21:14:00 WARN Utils: Set SPARK_LOCAL_IP if you need to bind to another address\n"
     ]
    },
    {
     "name": "stderr",
     "output_type": "stream",
     "text": [
      "Setting default log level to \"WARN\".\n",
      "To adjust logging level use sc.setLogLevel(newLevel). For SparkR, use setLogLevel(newLevel).\n"
     ]
    },
    {
     "name": "stdout",
     "output_type": "stream",
     "text": [
      "22/09/04 21:14:02 WARN NativeCodeLoader: Unable to load native-hadoop library for your platform... using builtin-java classes where applicable\n"
     ]
    }
   ],
   "source": [
    "import findspark\n",
    "findspark.init()\n",
    "\n",
    "import requests\n",
    "import json\n",
    "import unidecode\n",
    "from pyspark.sql import SparkSession\n",
    "from pyspark.sql.functions import *\n",
    "\n",
    "spark = SparkSession.builder \\\n",
    "      .master(\"local[1]\") \\\n",
    "      .appName(\"SparkByExamples.com\") \\\n",
    "      .getOrCreate()"
   ]
  },
  {
   "cell_type": "code",
   "execution_count": 2,
   "metadata": {},
   "outputs": [
    {
     "name": "stderr",
     "output_type": "stream",
     "text": [
      "                                                                                \r"
     ]
    },
    {
     "name": "stdout",
     "output_type": "stream",
     "text": [
      "+---------+------------------+--------------------+---------+\n",
      "|id_cidade|            cidade|     regiao_imediata|   estado|\n",
      "+---------+------------------+--------------------+---------+\n",
      "|  3502507|         Aparecida|       Guaratinguetá|São Paulo|\n",
      "|  3503158|            Arapeí|            Cruzeiro|São Paulo|\n",
      "|  3503505|            Areias|            Cruzeiro|São Paulo|\n",
      "|  3504909|           Bananal|            Cruzeiro|São Paulo|\n",
      "|  3508504|          Caçapava| São José dos Campos|São Paulo|\n",
      "|  3508603|Cachoeira Paulista|            Cruzeiro|São Paulo|\n",
      "|  3509700|  Campos do Jordão|Taubaté - Pindamo...|São Paulo|\n",
      "|  3509957|             Canas|       Guaratinguetá|São Paulo|\n",
      "|  3510500|     Caraguatatuba|Caraguatatuba - U...|São Paulo|\n",
      "|  3513405|          Cruzeiro|            Cruzeiro|São Paulo|\n",
      "|  3513603|             Cunha|       Guaratinguetá|São Paulo|\n",
      "|  3518404|     Guaratinguetá|       Guaratinguetá|São Paulo|\n",
      "|  3520202|           Igaratá| São José dos Campos|São Paulo|\n",
      "|  3520400|          Ilhabela|Caraguatatuba - U...|São Paulo|\n",
      "|  3524402|           Jacareí| São José dos Campos|São Paulo|\n",
      "|  3524907|          Jambeiro| São José dos Campos|São Paulo|\n",
      "|  3526308|          Lagoinha|Taubaté - Pindamo...|São Paulo|\n",
      "|  3526605|         Lavrinhas|            Cruzeiro|São Paulo|\n",
      "|  3527207|            Lorena|       Guaratinguetá|São Paulo|\n",
      "|  3531704|   Monteiro Lobato| São José dos Campos|São Paulo|\n",
      "+---------+------------------+--------------------+---------+\n",
      "only showing top 20 rows\n",
      "\n"
     ]
    }
   ],
   "source": [
    "# Buscar cidades do Vale do Paraíba\n",
    "# TODO\n",
    "url = 'https://servicodados.ibge.gov.br/api/v1/localidades/mesorregioes/3513/municipios'\n",
    "response = requests.get(url)\n",
    "\n",
    "# Criar data frame com as cidades\n",
    "# TODO\n",
    "raw_df = spark.read.json(spark.sparkContext.parallelize([response.json()]), multiLine=True)\n",
    "# raw_df.printSchema()\n",
    "temp_df = (\n",
    "        raw_df\n",
    "        .select(\n",
    "                'id', \n",
    "                'nome',\n",
    "                col('regiao-imediata.nome').alias('regiao_imediata'),\n",
    "                col('microrregiao.mesorregiao.UF.nome').alias('estado'))\n",
    "        .withColumnRenamed('id', 'id_cidade')\n",
    "        .withColumnRenamed('nome', 'cidade')\n",
    ")\n",
    "# Criar view com as cidades\n",
    "# TODO\n",
    "temp_df.createOrReplaceTempView('cidades')\n",
    "cidades = spark.sql('SELECT * FROM cidades')\n",
    "cidades.show()\n"
   ]
  },
  {
   "cell_type": "code",
   "execution_count": 9,
   "metadata": {},
   "outputs": [
    {
     "name": "stdout",
     "output_type": "stream",
     "text": [
      "+---------+----+-----+--------+--------+-----------+-----------+-----+--------------------+---+---+-------+------+----------+\n",
      "|     city|temp| time| sunrise|  sunset|wind_speedy|  condition| date|         description|max|min|weekday|  pais|Vai chover|\n",
      "+---------+----+-----+--------+--------+-----------+-----------+-----+--------------------+---+---+-------+------+----------+\n",
      "|Aparecida|  14|21:12|06:08 am|05:51 pm|  0.88 km/h|cloudly_day|04/09|       Tempo nublado| 17| 13|    Dom|Brasil|       Não|\n",
      "|Aparecida|  14|21:12|06:08 am|05:51 pm|  0.88 km/h|       rain|05/09|     Chuvas esparsas| 26| 12|    Seg|Brasil|       Sim|\n",
      "|Aparecida|  14|21:12|06:08 am|05:51 pm|  0.88 km/h|cloudly_day|06/09|       Tempo nublado| 25| 14|    Ter|Brasil|       Não|\n",
      "|Aparecida|  14|21:12|06:08 am|05:51 pm|  0.88 km/h|       rain|07/09|               Chuva| 30| 13|    Qua|Brasil|       Sim|\n",
      "|Aparecida|  14|21:12|06:08 am|05:51 pm|  0.88 km/h|       rain|08/09|     Chuvas esparsas| 28| 14|    Qui|Brasil|       Sim|\n",
      "|Aparecida|  14|21:12|06:08 am|05:51 pm|  0.88 km/h|  clear_day|09/09|         Tempo limpo| 29| 13|    Sex|Brasil|       Não|\n",
      "|Aparecida|  14|21:12|06:08 am|05:51 pm|  0.88 km/h|cloudly_day|10/09|Parcialmente nublado| 30| 13|    Sáb|Brasil|       Não|\n",
      "|Aparecida|  14|21:12|06:08 am|05:51 pm|  0.88 km/h|       rain|11/09|     Chuvas esparsas| 32| 16|    Dom|Brasil|       Sim|\n",
      "|Aparecida|  14|21:12|06:08 am|05:51 pm|  0.88 km/h|       rain|12/09|               Chuva| 27| 17|    Seg|Brasil|       Sim|\n",
      "|Aparecida|  14|21:12|06:08 am|05:51 pm|  0.88 km/h|       rain|13/09|     Chuvas esparsas| 19| 17|    Ter|Brasil|       Sim|\n",
      "|   Arapeí|  13|21:12|06:04 am|05:48 pm|  0.75 km/h|       rain|04/09|     Chuvas esparsas| 17| 14|    Dom|Brasil|       Sim|\n",
      "|   Arapeí|  13|21:12|06:04 am|05:48 pm|  0.75 km/h|cloudly_day|05/09|       Tempo nublado| 21| 13|    Seg|Brasil|       Não|\n",
      "|   Arapeí|  13|21:12|06:04 am|05:48 pm|  0.75 km/h|cloudly_day|06/09|       Tempo nublado| 23| 14|    Ter|Brasil|       Não|\n",
      "|   Arapeí|  13|21:12|06:04 am|05:48 pm|  0.75 km/h|       rain|07/09|     Chuvas esparsas| 29| 11|    Qua|Brasil|       Sim|\n",
      "|   Arapeí|  13|21:12|06:04 am|05:48 pm|  0.75 km/h|       rain|08/09|     Chuvas esparsas| 28| 14|    Qui|Brasil|       Sim|\n",
      "|   Arapeí|  13|21:12|06:04 am|05:48 pm|  0.75 km/h|       rain|09/09|     Chuvas esparsas| 25| 14|    Sex|Brasil|       Sim|\n",
      "|   Arapeí|  13|21:12|06:04 am|05:48 pm|  0.75 km/h|      cloud|10/09|Parcialmente nublado| 28| 14|    Sáb|Brasil|       Não|\n",
      "|   Arapeí|  13|21:12|06:04 am|05:48 pm|  0.75 km/h|       rain|11/09|               Chuva| 30| 16|    Dom|Brasil|       Sim|\n",
      "|   Arapeí|  13|21:12|06:04 am|05:48 pm|  0.75 km/h|       rain|12/09|               Chuva| 25| 17|    Seg|Brasil|       Sim|\n",
      "|   Arapeí|  13|21:12|06:04 am|05:48 pm|  0.75 km/h|       rain|13/09|     Chuvas esparsas| 19| 18|    Ter|Brasil|       Sim|\n",
      "+---------+----+-----+--------+--------+-----------+-----------+-----+--------------------+---+---+-------+------+----------+\n",
      "only showing top 20 rows\n",
      "\n"
     ]
    }
   ],
   "source": [
    "# Buscar previsão do tempo para as cidades\n",
    "# TODO\n",
    "estado = 'SP'\n",
    "api_key = 'api_key'\n",
    "json_list = []\n",
    "for cidade in cidades.collect():\n",
    "    cidade = cidade.cidade\n",
    "    cidade = cidade.replace(' ', '%20')\n",
    "    url = f'https://api.hgbrasil.com/weather?key={api_key}&city_name={cidade},{estado}&array_limit=5'\n",
    "    response = requests.get(url)\n",
    "    json_list.append(response.json()['results'])\n",
    "\n",
    "raw_df = spark.read.json(spark.sparkContext.parallelize(json_list), multiLine=True)\n",
    "# raw_df.printSchema()\n",
    "\n",
    "# Criar data frame com as previsões\n",
    "# TODO\n",
    "temp_df = (\n",
    "            raw_df\n",
    "            .select('city', 'temp', 'time', 'sunrise', 'sunset', 'wind_speedy',\n",
    "            explode('forecast').alias('forecast'))\n",
    "            .select('city', 'temp', 'time', 'sunrise', 'sunset', 'wind_speedy', 'forecast.*')\n",
    "            .withColumn('pais', lit('Brasil'))\n",
    "            .withColumn('city', \n",
    "            when(raw_df.city.endswith(', SP'),  regexp_replace(raw_df.city, ', SP', '')))\n",
    "            .withColumn('Vai chover', when(col('condition') == 'rain', lit('Sim')).otherwise(lit('Não')))\n",
    ")\n",
    "# Criar view com as previsões\n",
    "# TODO\n",
    "\n",
    "temp_df.createOrReplaceTempView('previsoes')\n",
    "previsoes = spark.sql('SELECT * FROM previsoes')\n",
    "previsoes.show()"
   ]
  },
  {
   "cell_type": "code",
   "execution_count": 43,
   "metadata": {},
   "outputs": [
    {
     "name": "stdout",
     "output_type": "stream",
     "text": [
      "+---------+---------+---------+------+-----------+-----+-----+--------------------+----------+--------+----------------+-----------+----------+\n",
      "|id_cidade|   cidade|   estado|  pais|temperatura| data| hora|           descricao|nascer_sol| por_sol|velocidade_vento|   condicao|Vai chover|\n",
      "+---------+---------+---------+------+-----------+-----+-----+--------------------+----------+--------+----------------+-----------+----------+\n",
      "|  3502507|Aparecida|São Paulo|Brasil|         14|04/09|21:12|       Tempo nublado|  06:08 am|05:51 pm|       0.88 km/h|cloudly_day|       Não|\n",
      "|  3502507|Aparecida|São Paulo|Brasil|         14|05/09|21:12|     Chuvas esparsas|  06:08 am|05:51 pm|       0.88 km/h|       rain|       Sim|\n",
      "|  3502507|Aparecida|São Paulo|Brasil|         14|06/09|21:12|       Tempo nublado|  06:08 am|05:51 pm|       0.88 km/h|cloudly_day|       Não|\n",
      "|  3502507|Aparecida|São Paulo|Brasil|         14|07/09|21:12|               Chuva|  06:08 am|05:51 pm|       0.88 km/h|       rain|       Sim|\n",
      "|  3502507|Aparecida|São Paulo|Brasil|         14|08/09|21:12|     Chuvas esparsas|  06:08 am|05:51 pm|       0.88 km/h|       rain|       Sim|\n",
      "|  3502507|Aparecida|São Paulo|Brasil|         14|09/09|21:12|         Tempo limpo|  06:08 am|05:51 pm|       0.88 km/h|  clear_day|       Não|\n",
      "|  3502507|Aparecida|São Paulo|Brasil|         14|10/09|21:12|Parcialmente nublado|  06:08 am|05:51 pm|       0.88 km/h|cloudly_day|       Não|\n",
      "|  3502507|Aparecida|São Paulo|Brasil|         14|11/09|21:12|     Chuvas esparsas|  06:08 am|05:51 pm|       0.88 km/h|       rain|       Sim|\n",
      "|  3502507|Aparecida|São Paulo|Brasil|         14|12/09|21:12|               Chuva|  06:08 am|05:51 pm|       0.88 km/h|       rain|       Sim|\n",
      "|  3502507|Aparecida|São Paulo|Brasil|         14|13/09|21:12|     Chuvas esparsas|  06:08 am|05:51 pm|       0.88 km/h|       rain|       Sim|\n",
      "|  3503158|   Arapeí|São Paulo|Brasil|         13|04/09|21:12|     Chuvas esparsas|  06:04 am|05:48 pm|       0.75 km/h|       rain|       Sim|\n",
      "|  3503158|   Arapeí|São Paulo|Brasil|         13|05/09|21:12|       Tempo nublado|  06:04 am|05:48 pm|       0.75 km/h|cloudly_day|       Não|\n",
      "|  3503158|   Arapeí|São Paulo|Brasil|         13|06/09|21:12|       Tempo nublado|  06:04 am|05:48 pm|       0.75 km/h|cloudly_day|       Não|\n",
      "|  3503158|   Arapeí|São Paulo|Brasil|         13|07/09|21:12|     Chuvas esparsas|  06:04 am|05:48 pm|       0.75 km/h|       rain|       Sim|\n",
      "|  3503158|   Arapeí|São Paulo|Brasil|         13|08/09|21:12|     Chuvas esparsas|  06:04 am|05:48 pm|       0.75 km/h|       rain|       Sim|\n",
      "|  3503158|   Arapeí|São Paulo|Brasil|         13|09/09|21:12|     Chuvas esparsas|  06:04 am|05:48 pm|       0.75 km/h|       rain|       Sim|\n",
      "|  3503158|   Arapeí|São Paulo|Brasil|         13|10/09|21:12|Parcialmente nublado|  06:04 am|05:48 pm|       0.75 km/h|      cloud|       Não|\n",
      "|  3503158|   Arapeí|São Paulo|Brasil|         13|11/09|21:12|               Chuva|  06:04 am|05:48 pm|       0.75 km/h|       rain|       Sim|\n",
      "|  3503158|   Arapeí|São Paulo|Brasil|         13|12/09|21:12|               Chuva|  06:04 am|05:48 pm|       0.75 km/h|       rain|       Sim|\n",
      "|  3503158|   Arapeí|São Paulo|Brasil|         13|13/09|21:12|     Chuvas esparsas|  06:04 am|05:48 pm|       0.75 km/h|       rain|       Sim|\n",
      "+---------+---------+---------+------+-----------+-----+-----+--------------------+----------+--------+----------------+-----------+----------+\n",
      "only showing top 20 rows\n",
      "\n"
     ]
    }
   ],
   "source": [
    "# Criar DF da Tabela 1\n",
    "# TODO\n",
    "df_join = spark.sql('SELECT * FROM previsoes JOIN cidades ON previsoes.city = cidades.cidade')\n",
    "tabela1 = (\n",
    "    df_join\n",
    "    .select('id_cidade', 'cidade', 'estado', 'pais', 'temp', 'date', 'time', 'description', 'sunrise', 'sunset', 'wind_speedy', 'condition', 'Vai chover')\n",
    "    .withColumnRenamed('date', 'data')\n",
    "    .withColumnRenamed('time', 'hora')\n",
    "    .withColumnRenamed('temp', 'temperatura')\n",
    "    .withColumnRenamed('description', 'descricao')\n",
    "    .withColumnRenamed('wind_speedy', 'velocidade_vento')\n",
    "    .withColumnRenamed('condition', 'condicao')\n",
    "    .withColumnRenamed('sunrise', 'nascer_sol')\n",
    "    .withColumnRenamed('sunset', 'por_sol')\n",
    "    )\n",
    "tabela1.show()"
   ]
  },
  {
   "cell_type": "code",
   "execution_count": 45,
   "metadata": {},
   "outputs": [
    {
     "name": "stdout",
     "output_type": "stream",
     "text": [
      "+------------------+----------------------------+---------------------------+----------------------------+\n",
      "|            cidade|Quantidade de dias com chuva|Quantidade de dias de chuva|Quanntidade de dias mapeados|\n",
      "+------------------+----------------------------+---------------------------+----------------------------+\n",
      "|         Aparecida|                           4|                          6|                          10|\n",
      "|            Arapeí|                           3|                          7|                          10|\n",
      "|            Areias|                           2|                          8|                          10|\n",
      "|           Bananal|                           3|                          7|                          10|\n",
      "|Cachoeira Paulista|                           4|                          6|                          10|\n",
      "|  Campos do Jordão|                           2|                          8|                          10|\n",
      "|             Canas|                           4|                          6|                          10|\n",
      "|     Caraguatatuba|                           3|                          7|                          10|\n",
      "|          Caçapava|                           2|                          8|                          10|\n",
      "|          Cruzeiro|                           4|                          6|                          10|\n",
      "|             Cunha|                           4|                          6|                          10|\n",
      "|     Guaratinguetá|                           4|                          6|                          10|\n",
      "|           Igaratá|                           3|                          7|                          10|\n",
      "|          Ilhabela|                           1|                          9|                          10|\n",
      "|           Jacareí|                           3|                          7|                          10|\n",
      "|          Jambeiro|                           3|                          7|                          10|\n",
      "|          Lagoinha|                           5|                          5|                          10|\n",
      "|         Lavrinhas|                           3|                          7|                          10|\n",
      "|            Lorena|                           4|                          6|                          10|\n",
      "|   Monteiro Lobato|                           2|                          8|                          10|\n",
      "+------------------+----------------------------+---------------------------+----------------------------+\n",
      "only showing top 20 rows\n",
      "\n"
     ]
    }
   ],
   "source": [
    "# Criar DF da Tabela 2\n",
    "# TODO\n",
    "temp_tabela2 = (\n",
    "    df_join\n",
    "    .select('cidade', 'Vai chover', 'date')\n",
    "    .groupBy('cidade', 'Vai chover')\n",
    "    .agg(count('date').alias('Quantidade de dias de chuva'))\n",
    ")\n",
    "tabela2 = (\n",
    "    temp_tabela2\n",
    "    .select('cidade', 'Vai chover', 'Quantidade de dias de chuva')\n",
    "    .groupBy('cidade')\n",
    "    .pivot('Vai chover')\n",
    "    .agg(first('Quantidade de dias de chuva'))\n",
    "    .withColumnRenamed('Sim', 'Quantidade de dias de chuva')\n",
    "    .withColumnRenamed('Não', 'Quantidade de dias com chuva')\n",
    "    .withColumn('Quanntidade de dias mapeados', col('Quantidade de dias de chuva') + col('Quantidade de dias com chuva'))\n",
    ")\n",
    "tabela2.show()"
   ]
  },
  {
   "cell_type": "code",
   "execution_count": 46,
   "metadata": {},
   "outputs": [],
   "source": [
    "# Exportar CSVs\n",
    "# TODO\n",
    "tabela1.write.csv('tabela1.csv')\n",
    "tabela2.write.csv('tabela2.csv')"
   ]
  },
  {
   "cell_type": "code",
   "execution_count": null,
   "metadata": {},
   "outputs": [],
   "source": []
  }
 ],
 "metadata": {
  "kernelspec": {
   "display_name": "Python 3.9.12 ('base')",
   "language": "python",
   "name": "python3"
  },
  "language_info": {
   "codemirror_mode": {
    "name": "ipython",
    "version": 3
   },
   "file_extension": ".py",
   "mimetype": "text/x-python",
   "name": "python",
   "nbconvert_exporter": "python",
   "pygments_lexer": "ipython3",
   "version": "3.9.12"
  },
  "orig_nbformat": 4,
  "vscode": {
   "interpreter": {
    "hash": "ef9976fb54af8ee8df79066cc870653b1489938a47ac38ebc1c5562e362a13ad"
   }
  }
 },
 "nbformat": 4,
 "nbformat_minor": 2
}
